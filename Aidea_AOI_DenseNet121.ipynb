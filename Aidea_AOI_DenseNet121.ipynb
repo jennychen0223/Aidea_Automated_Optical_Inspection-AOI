{
  "nbformat": 4,
  "nbformat_minor": 0,
  "metadata": {
    "colab": {
      "name": "Aidea_AOI_DenseNet121.ipynb",
      "provenance": [],
      "collapsed_sections": [],
      "authorship_tag": "ABX9TyOP2y2oYTvrXqySlTMjKWk1",
      "include_colab_link": true
    },
    "kernelspec": {
      "name": "python3",
      "display_name": "Python 3"
    },
    "language_info": {
      "name": "python"
    },
    "accelerator": "GPU"
  },
  "cells": [
    {
      "cell_type": "markdown",
      "metadata": {
        "id": "view-in-github",
        "colab_type": "text"
      },
      "source": [
        "<a href=\"https://colab.research.google.com/github/jennychen0223/Automated_Optical_Inspection-AOI/blob/main/Aidea_AOI_DenseNet121.ipynb\" target=\"_parent\"><img src=\"https://colab.research.google.com/assets/colab-badge.svg\" alt=\"Open In Colab\"/></a>"
      ]
    },
    {
      "cell_type": "code",
      "metadata": {
        "id": "Cb5jqDmJbb1J"
      },
      "source": [
        "from glob import glob\n",
        "import pandas as pd\n",
        "import numpy as np\n",
        "from sklearn.preprocessing import MinMaxScaler\n",
        "from keras import optimizers, regularizers, metrics, regularizers, models, layers, utils\n",
        "from keras.preprocessing.image import ImageDataGenerator\n",
        "import tensorflow as tf\n",
        "import ntpath\n",
        "from keras.applications.vgg16 import VGG16\n",
        "from PIL import Image \n",
        "from random import shuffle\n",
        "from sklearn.preprocessing import OneHotEncoder\n",
        "import os"
      ],
      "execution_count": null,
      "outputs": []
    },
    {
      "cell_type": "code",
      "metadata": {
        "colab": {
          "base_uri": "https://localhost:8080/"
        },
        "id": "JcGWbROXcxiN",
        "outputId": "1ad7272e-4372-4ceb-d5fa-10b174d6cb0c"
      },
      "source": [
        "from google.colab import drive\n",
        "drive.mount('/content/drive')"
      ],
      "execution_count": null,
      "outputs": [
        {
          "output_type": "stream",
          "text": [
            "Drive already mounted at /content/drive; to attempt to forcibly remount, call drive.mount(\"/content/drive\", force_remount=True).\n"
          ],
          "name": "stdout"
        }
      ]
    },
    {
      "cell_type": "code",
      "metadata": {
        "id": "MbJF8bCxcxlD"
      },
      "source": [
        "! cp \"/content/drive/My Drive/aoi/train.csv\" /content/\n",
        "! cp \"/content/drive/My Drive/aoi/test.csv\" /content/"
      ],
      "execution_count": null,
      "outputs": []
    },
    {
      "cell_type": "code",
      "metadata": {
        "id": "STGuToYEdkuu",
        "colab": {
          "base_uri": "https://localhost:8080/"
        },
        "outputId": "7ea037f3-232f-4ffd-edad-a7996138019e"
      },
      "source": [
        "! unzip /content/drive/MyDrive/train_images.zip > data_unzip.log"
      ],
      "execution_count": null,
      "outputs": [
        {
          "output_type": "stream",
          "text": [
            "replace train_images/train/4/train_02323.png? [y]es, [n]o, [A]ll, [N]one, [r]ename: A\n"
          ],
          "name": "stdout"
        }
      ]
    },
    {
      "cell_type": "code",
      "metadata": {
        "id": "xbcwtEusekYT"
      },
      "source": [
        "train_path = '/content/train_images/train/'\n",
        "valid_path = '/content/train_images/valid/'\n",
        "test_path = '/content/train_images/test/'\n"
      ],
      "execution_count": null,
      "outputs": []
    },
    {
      "cell_type": "code",
      "metadata": {
        "colab": {
          "base_uri": "https://localhost:8080/"
        },
        "id": "V3BajsTPhjxS",
        "outputId": "5ca898e3-cd1e-47b0-a913-0299717c9140"
      },
      "source": [
        "train_0 = glob(\"/content/train_images/train/0/*.png\") \n",
        "train_1 = glob(\"/content/train_images/train/1/*.png\") \n",
        "train_2 = glob(\"/content/train_images/train/2/*.png\") \n",
        "train_3 = glob(\"/content/train_images/train/3/*.png\") \n",
        "train_4 = glob(\"/content/train_images/train/4/*.png\")\n",
        "train_5 = glob(\"/content/train_images/train/5/*.png\") \n",
        "\n",
        "\n",
        "test_0 = glob(\"/content/train_images/test/0/*.png\") \n",
        "test_1 = glob(\"/content/train_images/test/1/*.png\")\n",
        "test_2 = glob(\"/content/train_images/test/2/*.png\") \n",
        "test_3 = glob(\"/content/train_images/test/3/*.png\")\n",
        "test_4 = glob(\"/content/train_images/test/4/*.png\") \n",
        "test_5 = glob(\"/content/train_images/test/5/*.png\") \n",
        "\n",
        "valid_0 = glob(\"/content/train_images/valid/0/*.png\") \n",
        "valid_1 = glob(\"/content/train_images/valid/1/*.png\")\n",
        "valid_2 = glob(\"/content/train_images/valid/2/*.png\")\n",
        "valid_3 = glob(\"/content/train_images/valid/3/*.png\")\n",
        "valid_4 = glob(\"/content/train_images/valid/4/*.png\") \n",
        "valid_5 = glob(\"/content/train_images/valid/5/*.png\") \n",
        "\n",
        "print(\"train_0 : \", len(train_0))\n",
        "print(\"train_1 : \", len(train_1))\n",
        "print(\"train_2 : \", len(train_2))\n",
        "print(\"train_3 : \", len(train_3))\n",
        "print(\"train_4 : \", len(train_4))\n",
        "print(\"train_5 : \", len(train_5))\n",
        "print()\n",
        "\n",
        "print(\"test_0 : \", len(test_0))\n",
        "print(\"test_1 : \", len(test_1))\n",
        "print(\"test_2 : \", len(test_2))\n",
        "print(\"test_3 : \", len(test_3))\n",
        "print(\"test_4 : \", len(test_4))\n",
        "print(\"test_5 : \", len(test_5))\n",
        "print()\n",
        "\n",
        "print(\"valid_0 : \", len(valid_0))\n",
        "print(\"valid_1 : \", len(valid_1))\n",
        "print(\"valid_2 : \", len(valid_2))\n",
        "print(\"valid_3 : \", len(valid_3))\n",
        "print(\"valid_4 : \", len(valid_4))\n",
        "print(\"valid_5 : \", len(valid_5))"
      ],
      "execution_count": null,
      "outputs": [
        {
          "output_type": "stream",
          "text": [
            "train_0 :  492\n",
            "train_1 :  338\n",
            "train_2 :  73\n",
            "train_3 :  254\n",
            "train_4 :  168\n",
            "train_5 :  444\n",
            "\n",
            "test_0 :  86\n",
            "test_1 :  84\n",
            "test_2 :  10\n",
            "test_3 :  68\n",
            "test_4 :  40\n",
            "test_5 :  92\n",
            "\n",
            "valid_0 :  96\n",
            "valid_1 :  70\n",
            "valid_2 :  17\n",
            "valid_3 :  56\n",
            "valid_4 :  32\n",
            "valid_5 :  108\n"
          ],
          "name": "stdout"
        }
      ]
    },
    {
      "cell_type": "code",
      "metadata": {
        "id": "55unwUKhAgic"
      },
      "source": [
        "from keras.applications.inception_v3 import InceptionV3\n",
        "from keras.layers import Conv2D,MaxPooling2D,Activation,Flatten,Dense,Dropout\n",
        "from time import gmtime, strftime\n",
        "import matplotlib.pyplot as plt"
      ],
      "execution_count": null,
      "outputs": []
    },
    {
      "cell_type": "code",
      "metadata": {
        "id": "MDc_9plZhEjV"
      },
      "source": [
        "train_datagen = ImageDataGenerator(\n",
        "      rescale=1./255, #影象張量的數字縮放\n",
        "      rotation_range=40, # 角度值，0~180，影象旋轉\n",
        "      width_shift_range=0.2, # 水平平移，相對總寬度的比例\n",
        "      height_shift_range=0.2, # 垂直平移，相對總高度的比例\n",
        "      shear_range=0.2, # 隨機錯切換角度\n",
        "      zoom_range=0.2, # 隨機縮放範圍\n",
        "      horizontal_flip=True, # 一半影象水平翻轉\n",
        "      fill_mode='nearest') # 填充新建立畫素的方法"
      ],
      "execution_count": null,
      "outputs": []
    },
    {
      "cell_type": "code",
      "metadata": {
        "colab": {
          "base_uri": "https://localhost:8080/"
        },
        "id": "b-O6LrewhFWI",
        "outputId": "f404a779-d7f6-4891-ccba-f6ed9f96fd81"
      },
      "source": [
        "train_generator = train_datagen.flow_from_directory(\n",
        "      train_path, # 目標目錄\n",
        "      target_size=(224, 224),\n",
        "      classes=['0', '1', '2', '3', '4', '5'],\n",
        "      batch_size=32,\n",
        "      class_mode='categorical')"
      ],
      "execution_count": null,
      "outputs": [
        {
          "output_type": "stream",
          "text": [
            "Found 1769 images belonging to 6 classes.\n"
          ],
          "name": "stdout"
        }
      ]
    },
    {
      "cell_type": "code",
      "metadata": {
        "id": "njKxORz5bnGZ",
        "colab": {
          "base_uri": "https://localhost:8080/"
        },
        "outputId": "47f0d1c3-d584-4a8a-a141-00cd4fe13b5b"
      },
      "source": [
        "train_generator.image_shape"
      ],
      "execution_count": null,
      "outputs": [
        {
          "output_type": "execute_result",
          "data": {
            "text/plain": [
              "(224, 224, 3)"
            ]
          },
          "metadata": {
            "tags": []
          },
          "execution_count": 10
        }
      ]
    },
    {
      "cell_type": "code",
      "metadata": {
        "id": "uOCgV9PzhHnF",
        "colab": {
          "base_uri": "https://localhost:8080/"
        },
        "outputId": "9fa47c1b-7a01-4a0d-9da5-712b44b55586"
      },
      "source": [
        "test_datagen = ImageDataGenerator(rescale=1./255)\n",
        "\n",
        "validation_generator = test_datagen.flow_from_directory(\n",
        "        valid_path,\n",
        "        target_size=(224, 224),\n",
        "        classes=['0', '1', '2', '3', '4', '5'],\n",
        "        batch_size=32,\n",
        "        class_mode='categorical')"
      ],
      "execution_count": null,
      "outputs": [
        {
          "output_type": "stream",
          "text": [
            "Found 379 images belonging to 6 classes.\n"
          ],
          "name": "stdout"
        }
      ]
    },
    {
      "cell_type": "code",
      "metadata": {
        "id": "GPNtReCFGn-a"
      },
      "source": [
        "from keras.applications.densenet import DenseNet121, preprocess_input\n",
        "\n",
        "densenet  = DenseNet121(weights = 'imagenet', \n",
        "                        include_top = False, \n",
        "                        input_shape=(224,224,3))\n",
        "model = models.Sequential()\n",
        "model.add(densenet)\n",
        "\n",
        "model.add(Conv2D(32, (1, 1),activation=\"relu\"))\n",
        "model.add(Dropout(0.2))\n",
        "model.add(Conv2D(64,(3, 3),activation=\"relu\"))\n",
        "model.add(Dropout(0.2))\n",
        "model.add(Flatten())\n",
        "model.add(Dense(32))\n",
        "model.add(Dense(64))\n",
        "model.add(Dense(64))\n",
        "\n",
        "model.add(Dense(6,activation='softmax'))"
      ],
      "execution_count": null,
      "outputs": []
    },
    {
      "cell_type": "code",
      "metadata": {
        "colab": {
          "base_uri": "https://localhost:8080/"
        },
        "id": "EU2OEOFAG5_Z",
        "outputId": "d47a34e2-7305-442f-d579-efa3da8a02db"
      },
      "source": [
        "model.compile(loss='categorical_crossentropy',\n",
        "              optimizer=optimizers.RMSprop(lr=2e-5),\n",
        "              metrics=['acc'])\n",
        "model.summary()"
      ],
      "execution_count": null,
      "outputs": [
        {
          "output_type": "stream",
          "text": [
            "Model: \"sequential\"\n",
            "_________________________________________________________________\n",
            "Layer (type)                 Output Shape              Param #   \n",
            "=================================================================\n",
            "densenet121 (Functional)     (None, 7, 7, 1024)        7037504   \n",
            "_________________________________________________________________\n",
            "conv2d (Conv2D)              (None, 7, 7, 32)          32800     \n",
            "_________________________________________________________________\n",
            "dropout (Dropout)            (None, 7, 7, 32)          0         \n",
            "_________________________________________________________________\n",
            "conv2d_1 (Conv2D)            (None, 5, 5, 64)          18496     \n",
            "_________________________________________________________________\n",
            "dropout_1 (Dropout)          (None, 5, 5, 64)          0         \n",
            "_________________________________________________________________\n",
            "flatten (Flatten)            (None, 1600)              0         \n",
            "_________________________________________________________________\n",
            "dense (Dense)                (None, 32)                51232     \n",
            "_________________________________________________________________\n",
            "dense_1 (Dense)              (None, 64)                2112      \n",
            "_________________________________________________________________\n",
            "dense_2 (Dense)              (None, 64)                4160      \n",
            "_________________________________________________________________\n",
            "dense_3 (Dense)              (None, 6)                 390       \n",
            "=================================================================\n",
            "Total params: 7,146,694\n",
            "Trainable params: 7,063,046\n",
            "Non-trainable params: 83,648\n",
            "_________________________________________________________________\n"
          ],
          "name": "stdout"
        },
        {
          "output_type": "stream",
          "text": [
            "/usr/local/lib/python3.7/dist-packages/tensorflow/python/keras/optimizer_v2/optimizer_v2.py:375: UserWarning: The `lr` argument is deprecated, use `learning_rate` instead.\n",
            "  \"The `lr` argument is deprecated, use `learning_rate` instead.\")\n"
          ],
          "name": "stderr"
        }
      ]
    },
    {
      "cell_type": "code",
      "metadata": {
        "colab": {
          "base_uri": "https://localhost:8080/"
        },
        "id": "NalcbhKrGojF",
        "outputId": "337a622d-b856-4788-c3f4-44f25ecebf33"
      },
      "source": [
        "history = model.fit_generator(\n",
        "      train_generator,\n",
        "      steps_per_epoch=50,\n",
        "      epochs=50,\n",
        "      validation_data=validation_generator,\n",
        "      validation_steps=10\n",
        ")"
      ],
      "execution_count": null,
      "outputs": [
        {
          "output_type": "stream",
          "text": [
            "/usr/local/lib/python3.7/dist-packages/keras/engine/training.py:1915: UserWarning: `Model.fit_generator` is deprecated and will be removed in a future version. Please use `Model.fit`, which supports generators.\n",
            "  warnings.warn('`Model.fit_generator` is deprecated and '\n"
          ],
          "name": "stderr"
        },
        {
          "output_type": "stream",
          "text": [
            "Epoch 1/50\n",
            "50/50 [==============================] - 124s 1s/step - loss: 1.8128 - acc: 0.3093 - val_loss: 1.7912 - val_acc: 0.2406\n",
            "Epoch 2/50\n",
            "50/50 [==============================] - 42s 829ms/step - loss: 1.1940 - acc: 0.5390 - val_loss: 1.5083 - val_acc: 0.3469\n",
            "Epoch 3/50\n",
            "50/50 [==============================] - 42s 829ms/step - loss: 0.9701 - acc: 0.6315 - val_loss: 1.3689 - val_acc: 0.4000\n",
            "Epoch 4/50\n",
            "50/50 [==============================] - 42s 829ms/step - loss: 0.7870 - acc: 0.7162 - val_loss: 1.3215 - val_acc: 0.4688\n",
            "Epoch 5/50\n",
            "50/50 [==============================] - 42s 828ms/step - loss: 0.5952 - acc: 0.7869 - val_loss: 1.0771 - val_acc: 0.5437\n",
            "Epoch 6/50\n",
            "50/50 [==============================] - 42s 827ms/step - loss: 0.5164 - acc: 0.8208 - val_loss: 0.9069 - val_acc: 0.6250\n",
            "Epoch 7/50\n",
            "50/50 [==============================] - 42s 832ms/step - loss: 0.3935 - acc: 0.8643 - val_loss: 0.7088 - val_acc: 0.7250\n",
            "Epoch 8/50\n",
            "50/50 [==============================] - 42s 829ms/step - loss: 0.3700 - acc: 0.8768 - val_loss: 0.7900 - val_acc: 0.6969\n",
            "Epoch 9/50\n",
            "50/50 [==============================] - 42s 829ms/step - loss: 0.2709 - acc: 0.9138 - val_loss: 0.3697 - val_acc: 0.8781\n",
            "Epoch 10/50\n",
            "50/50 [==============================] - 42s 828ms/step - loss: 0.2134 - acc: 0.9293 - val_loss: 0.3048 - val_acc: 0.8813\n",
            "Epoch 11/50\n",
            "50/50 [==============================] - 42s 829ms/step - loss: 0.1836 - acc: 0.9340 - val_loss: 0.3990 - val_acc: 0.8719\n",
            "Epoch 12/50\n",
            "50/50 [==============================] - 42s 829ms/step - loss: 0.1533 - acc: 0.9543 - val_loss: 0.2581 - val_acc: 0.9094\n",
            "Epoch 13/50\n",
            "50/50 [==============================] - 42s 827ms/step - loss: 0.1543 - acc: 0.9519 - val_loss: 0.2394 - val_acc: 0.9125\n",
            "Epoch 14/50\n",
            "50/50 [==============================] - 42s 828ms/step - loss: 0.1443 - acc: 0.9499 - val_loss: 0.1829 - val_acc: 0.9281\n",
            "Epoch 15/50\n",
            "50/50 [==============================] - 42s 829ms/step - loss: 0.1457 - acc: 0.9526 - val_loss: 0.1264 - val_acc: 0.9500\n",
            "Epoch 16/50\n",
            "50/50 [==============================] - 42s 828ms/step - loss: 0.1684 - acc: 0.9379 - val_loss: 0.1148 - val_acc: 0.9656\n",
            "Epoch 17/50\n",
            "50/50 [==============================] - 42s 830ms/step - loss: 0.1254 - acc: 0.9580 - val_loss: 0.2342 - val_acc: 0.9250\n",
            "Epoch 18/50\n",
            "50/50 [==============================] - 42s 828ms/step - loss: 0.1003 - acc: 0.9671 - val_loss: 0.1386 - val_acc: 0.9469\n",
            "Epoch 19/50\n",
            "50/50 [==============================] - 42s 827ms/step - loss: 0.0811 - acc: 0.9740 - val_loss: 0.0899 - val_acc: 0.9750\n",
            "Epoch 20/50\n",
            "50/50 [==============================] - 42s 829ms/step - loss: 0.0687 - acc: 0.9742 - val_loss: 0.0918 - val_acc: 0.9656\n",
            "Epoch 21/50\n",
            "50/50 [==============================] - 42s 829ms/step - loss: 0.1174 - acc: 0.9578 - val_loss: 0.2189 - val_acc: 0.9312\n",
            "Epoch 22/50\n",
            "50/50 [==============================] - 42s 828ms/step - loss: 0.0768 - acc: 0.9740 - val_loss: 0.0796 - val_acc: 0.9750\n",
            "Epoch 23/50\n",
            "50/50 [==============================] - 42s 830ms/step - loss: 0.1002 - acc: 0.9699 - val_loss: 0.0506 - val_acc: 0.9844\n",
            "Epoch 24/50\n",
            "50/50 [==============================] - 42s 828ms/step - loss: 0.0540 - acc: 0.9793 - val_loss: 0.0672 - val_acc: 0.9844\n",
            "Epoch 25/50\n",
            "50/50 [==============================] - 42s 827ms/step - loss: 0.0626 - acc: 0.9759 - val_loss: 0.1672 - val_acc: 0.9469\n",
            "Epoch 26/50\n",
            "50/50 [==============================] - 42s 827ms/step - loss: 0.0642 - acc: 0.9753 - val_loss: 0.2987 - val_acc: 0.8969\n",
            "Epoch 27/50\n",
            "50/50 [==============================] - 42s 826ms/step - loss: 0.0536 - acc: 0.9830 - val_loss: 0.0746 - val_acc: 0.9750\n",
            "Epoch 28/50\n",
            "50/50 [==============================] - 42s 826ms/step - loss: 0.0479 - acc: 0.9846 - val_loss: 0.1173 - val_acc: 0.9656\n",
            "Epoch 29/50\n",
            "50/50 [==============================] - 42s 825ms/step - loss: 0.0443 - acc: 0.9861 - val_loss: 0.0207 - val_acc: 0.9906\n",
            "Epoch 30/50\n",
            "50/50 [==============================] - 42s 826ms/step - loss: 0.0411 - acc: 0.9855 - val_loss: 0.0855 - val_acc: 0.9812\n",
            "Epoch 31/50\n",
            "50/50 [==============================] - 42s 825ms/step - loss: 0.0613 - acc: 0.9823 - val_loss: 0.0820 - val_acc: 0.9750\n",
            "Epoch 32/50\n",
            "50/50 [==============================] - 42s 831ms/step - loss: 0.0515 - acc: 0.9818 - val_loss: 0.0940 - val_acc: 0.9719\n",
            "Epoch 33/50\n",
            "50/50 [==============================] - 42s 827ms/step - loss: 0.0377 - acc: 0.9892 - val_loss: 0.0686 - val_acc: 0.9875\n",
            "Epoch 34/50\n",
            "50/50 [==============================] - 42s 826ms/step - loss: 0.0508 - acc: 0.9861 - val_loss: 0.1079 - val_acc: 0.9781\n",
            "Epoch 35/50\n",
            "50/50 [==============================] - 42s 827ms/step - loss: 0.0370 - acc: 0.9864 - val_loss: 0.1130 - val_acc: 0.9812\n",
            "Epoch 36/50\n",
            "50/50 [==============================] - 42s 830ms/step - loss: 0.0325 - acc: 0.9915 - val_loss: 0.1289 - val_acc: 0.9812\n",
            "Epoch 37/50\n",
            "50/50 [==============================] - 42s 826ms/step - loss: 0.0414 - acc: 0.9810 - val_loss: 0.0938 - val_acc: 0.9844\n",
            "Epoch 38/50\n",
            "50/50 [==============================] - 42s 827ms/step - loss: 0.0310 - acc: 0.9881 - val_loss: 0.1955 - val_acc: 0.9656\n",
            "Epoch 39/50\n",
            "50/50 [==============================] - 42s 826ms/step - loss: 0.0383 - acc: 0.9837 - val_loss: 0.1993 - val_acc: 0.9375\n",
            "Epoch 40/50\n",
            "50/50 [==============================] - 42s 825ms/step - loss: 0.0354 - acc: 0.9925 - val_loss: 0.1653 - val_acc: 0.9531\n",
            "Epoch 41/50\n",
            "50/50 [==============================] - 42s 827ms/step - loss: 0.0249 - acc: 0.9945 - val_loss: 0.0671 - val_acc: 0.9812\n",
            "Epoch 42/50\n",
            "50/50 [==============================] - 42s 826ms/step - loss: 0.0210 - acc: 0.9934 - val_loss: 0.1061 - val_acc: 0.9781\n",
            "Epoch 43/50\n",
            "50/50 [==============================] - 42s 826ms/step - loss: 0.0313 - acc: 0.9930 - val_loss: 0.0528 - val_acc: 0.9844\n",
            "Epoch 44/50\n",
            "50/50 [==============================] - 42s 825ms/step - loss: 0.0346 - acc: 0.9901 - val_loss: 0.0555 - val_acc: 0.9844\n",
            "Epoch 45/50\n",
            "50/50 [==============================] - 42s 826ms/step - loss: 0.0260 - acc: 0.9925 - val_loss: 0.0295 - val_acc: 0.9906\n",
            "Epoch 46/50\n",
            "50/50 [==============================] - 42s 824ms/step - loss: 0.0209 - acc: 0.9909 - val_loss: 0.0652 - val_acc: 0.9844\n",
            "Epoch 47/50\n",
            "50/50 [==============================] - 42s 826ms/step - loss: 0.0210 - acc: 0.9963 - val_loss: 0.1014 - val_acc: 0.9812\n",
            "Epoch 48/50\n",
            "50/50 [==============================] - 42s 825ms/step - loss: 0.0208 - acc: 0.9968 - val_loss: 0.1173 - val_acc: 0.9781\n",
            "Epoch 49/50\n",
            "50/50 [==============================] - 42s 827ms/step - loss: 0.0243 - acc: 0.9944 - val_loss: 0.0758 - val_acc: 0.9875\n",
            "Epoch 50/50\n",
            "50/50 [==============================] - 42s 826ms/step - loss: 0.0305 - acc: 0.9873 - val_loss: 0.1008 - val_acc: 0.9781\n"
          ],
          "name": "stdout"
        }
      ]
    },
    {
      "cell_type": "code",
      "metadata": {
        "colab": {
          "base_uri": "https://localhost:8080/"
        },
        "id": "nS9sfDRIOaa5",
        "outputId": "86248963-2d19-4bd4-abe8-e8e09c471796"
      },
      "source": [
        "test_generator = test_datagen.flow_from_directory(\n",
        "        test_path,\n",
        "        target_size=(224, 224),\n",
        "        classes=['0', '1', '2', '3', '4', '5'],\n",
        "        batch_size=32,\n",
        "        class_mode='categorical')"
      ],
      "execution_count": null,
      "outputs": [
        {
          "output_type": "stream",
          "text": [
            "Found 380 images belonging to 6 classes.\n"
          ],
          "name": "stdout"
        }
      ]
    },
    {
      "cell_type": "code",
      "metadata": {
        "id": "-pm4HL479EqD",
        "colab": {
          "base_uri": "https://localhost:8080/"
        },
        "outputId": "4e2772b9-a20a-4df0-de95-47d5b6017cad"
      },
      "source": [
        "test_loss, test_acc = model.evaluate_generator(\n",
        "\ttest_generator, \n",
        "\tsteps=test_generator.samples//test_generator.batch_size)"
      ],
      "execution_count": null,
      "outputs": [
        {
          "output_type": "stream",
          "text": [
            "/usr/local/lib/python3.7/dist-packages/keras/engine/training.py:1948: UserWarning: `Model.evaluate_generator` is deprecated and will be removed in a future version. Please use `Model.evaluate`, which supports generators.\n",
            "  warnings.warn('`Model.evaluate_generator` is deprecated and '\n"
          ],
          "name": "stderr"
        }
      ]
    },
    {
      "cell_type": "code",
      "metadata": {
        "id": "hN4_zA9G9EtL",
        "colab": {
          "base_uri": "https://localhost:8080/"
        },
        "outputId": "4fb2c31d-17d4-412b-943f-9982650c20af"
      },
      "source": [
        "print('test acc:', test_acc)\n"
      ],
      "execution_count": null,
      "outputs": [
        {
          "output_type": "stream",
          "text": [
            "test acc: 0.9829545617103577\n"
          ],
          "name": "stdout"
        }
      ]
    },
    {
      "cell_type": "code",
      "metadata": {
        "id": "93QKZJU6MSjT",
        "colab": {
          "base_uri": "https://localhost:8080/",
          "height": 312
        },
        "outputId": "e968291d-994e-4832-9a3d-13b2f340077c"
      },
      "source": [
        "# plot model loss & save\n",
        "plt.plot(history.history['loss'])\n",
        "plt.plot(history.history['val_loss'])\n",
        "plt.title('model loss')\n",
        "plt.ylabel('loss')\n",
        "plt.xlabel('epoch')\n",
        "plt.legend(['train', 'test'], loc='upper left')"
      ],
      "execution_count": null,
      "outputs": [
        {
          "output_type": "execute_result",
          "data": {
            "text/plain": [
              "<matplotlib.legend.Legend at 0x7f17fd289150>"
            ]
          },
          "metadata": {
            "tags": []
          },
          "execution_count": 20
        },
        {
          "output_type": "display_data",
          "data": {
            "image/png": "[encoded data removed]",
            "text/plain": [
              "<Figure size 432x288 with 1 Axes>"
            ]
          },
          "metadata": {
            "tags": [],
            "needs_background": "light"
          }
        }
      ]
    },
    {
      "cell_type": "code",
      "metadata": {
        "id": "e2SVPMDtMpII",
        "colab": {
          "base_uri": "https://localhost:8080/",
          "height": 312
        },
        "outputId": "1632d927-ba5f-4e26-a350-38479a98d839"
      },
      "source": [
        "# plot model accuracy & save\n",
        "plt.plot(history.history['acc'])\n",
        "plt.plot(history.history['val_acc'])\n",
        "plt.title('model accuracy')\n",
        "plt.ylabel('accuracy')\n",
        "plt.xlabel('epoch')\n",
        "plt.legend(['train', 'test'], loc='upper left')"
      ],
      "execution_count": null,
      "outputs": [
        {
          "output_type": "execute_result",
          "data": {
            "text/plain": [
              "<matplotlib.legend.Legend at 0x7f17fcd78690>"
            ]
          },
          "metadata": {
            "tags": []
          },
          "execution_count": 21
        },
        {
          "output_type": "display_data",
          "data": {
            "image/png": "[encoded data removed]",
            "text/plain": [
              "<Figure size 432x288 with 1 Axes>"
            ]
          },
          "metadata": {
            "tags": [],
            "needs_background": "light"
          }
        }
      ]
    },
    {
      "cell_type": "markdown",
      "metadata": {
        "id": "ckuB1K_eN-IC"
      },
      "source": [
        "進行預測"
      ]
    },
    {
      "cell_type": "code",
      "metadata": {
        "id": "9Jbz58WjzBn7"
      },
      "source": [
        "! unzip /content/drive/MyDrive/aoi/test_images.zip > data_unzip.log"
      ],
      "execution_count": null,
      "outputs": []
    },
    {
      "cell_type": "code",
      "metadata": {
        "id": "u26BoaAmzLc-"
      },
      "source": [
        "test_path2 = 'test_images/'\n"
      ],
      "execution_count": null,
      "outputs": []
    },
    {
      "cell_type": "code",
      "metadata": {
        "id": "kythm4MSJnmE",
        "colab": {
          "base_uri": "https://localhost:8080/"
        },
        "outputId": "a43eec17-8916-41ba-a453-0ed96ddb7a11"
      },
      "source": [
        "test_datagen = ImageDataGenerator(rescale=1./255)\n",
        "\n",
        "test_generator2 = test_datagen.flow_from_directory(\n",
        "        '.',\n",
        "        target_size=(224, 224),\n",
        "        class_mode='categorical',\n",
        "        classes=['test_images'],\n",
        "\t      batch_size=1,\n",
        "\t      shuffle=False)"
      ],
      "execution_count": null,
      "outputs": [
        {
          "output_type": "stream",
          "text": [
            "Found 10142 images belonging to 1 classes.\n"
          ],
          "name": "stdout"
        }
      ]
    },
    {
      "cell_type": "code",
      "metadata": {
        "colab": {
          "base_uri": "https://localhost:8080/"
        },
        "id": "axj45xNLynoy",
        "outputId": "2fe9907f-e7d8-47aa-e7fa-c9030fa0b251"
      },
      "source": [
        "steps2=test_generator2.samples//test_generator2.batch_size\n",
        "print(steps2)"
      ],
      "execution_count": null,
      "outputs": [
        {
          "output_type": "stream",
          "text": [
            "10142\n"
          ],
          "name": "stdout"
        }
      ]
    },
    {
      "cell_type": "code",
      "metadata": {
        "id": "rLaLq3f0NHr5",
        "colab": {
          "base_uri": "https://localhost:8080/"
        },
        "outputId": "c3721e9d-82b4-498e-ba0e-d2fef1c7ea57"
      },
      "source": [
        "predict = model.predict_generator(\n",
        "    test_generator2,\n",
        "    steps=test_generator2.samples//test_generator2.batch_size)\n"
      ],
      "execution_count": null,
      "outputs": [
        {
          "output_type": "stream",
          "text": [
            "/usr/local/lib/python3.7/dist-packages/keras/engine/training.py:1976: UserWarning: `Model.predict_generator` is deprecated and will be removed in a future version. Please use `Model.predict`, which supports generators.\n",
            "  warnings.warn('`Model.predict_generator` is deprecated and '\n"
          ],
          "name": "stderr"
        }
      ]
    },
    {
      "cell_type": "code",
      "metadata": {
        "id": "2R3mEKu4NMYB",
        "colab": {
          "base_uri": "https://localhost:8080/"
        },
        "outputId": "5fef1a3c-49c3-4a8a-cf92-b77f3c9556e2"
      },
      "source": [
        "import csv\n",
        "i =0 \n",
        "#f1 = open (\"inFile\",\"r\") # open input file for reading\n",
        "with open('output.csv', 'w') as csvfile:\n",
        "\twriter = csv.writer(csvfile)\n",
        "\twriter.writerow(['ID', 'Label'])\n",
        "\t#print(len(predict))\n",
        "\twhile i < len(predict):\n",
        "\t\t#image, label = test_generator2._get_batches_of_transformed_samples(np.array([i]))\n",
        "\t\timage_name = test_generator2.filenames[i]\n",
        "\t\tresult=np.where(predict[i] == np.amax(predict[i]))[0][0]\n",
        "\t\twriter.writerow([image_name, result])\n",
        "\t\ti=i+1\n",
        "\tprint(i)"
      ],
      "execution_count": null,
      "outputs": [
        {
          "output_type": "stream",
          "text": [
            "10142\n"
          ],
          "name": "stdout"
        }
      ]
    },
    {
      "cell_type": "code",
      "metadata": {
        "id": "-o-vPvtONPYL"
      },
      "source": [
        "result = pd.read_csv('output.csv')\n",
        "result[\"ID\"] = result[\"ID\"].str.replace(\"test_images/t\",\"t\")\n"
      ],
      "execution_count": null,
      "outputs": []
    },
    {
      "cell_type": "code",
      "metadata": {
        "id": "MzSr-swgNSL3"
      },
      "source": [
        "import pandas as pd\n",
        "result.to_csv('Result_DenseNet121.csv', index=False )"
      ],
      "execution_count": null,
      "outputs": []
    }
  ]
}