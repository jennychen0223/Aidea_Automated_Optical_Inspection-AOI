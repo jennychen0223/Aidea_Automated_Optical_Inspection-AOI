{
  "nbformat": 4,
  "nbformat_minor": 0,
  "metadata": {
    "colab": {
      "name": "Aidea_AOI ResNet50.ipynb ",
      "provenance": [],
      "collapsed_sections": [],
      "authorship_tag": "ABX9TyN1OftOgTiU3eqAN5Qndsah",
      "include_colab_link": true
    },
    "kernelspec": {
      "name": "python3",
      "display_name": "Python 3"
    },
    "language_info": {
      "name": "python"
    },
    "accelerator": "GPU"
  },
  "cells": [
    {
      "cell_type": "markdown",
      "metadata": {
        "id": "view-in-github",
        "colab_type": "text"
      },
      "source": [
        "<a href=\"https://colab.research.google.com/github/jennychen0223/Automated_Optical_Inspection-AOI/blob/main/Aidea_AOI_ResNet50.ipynb\" target=\"_parent\"><img src=\"https://colab.research.google.com/assets/colab-badge.svg\" alt=\"Open In Colab\"/></a>"
      ]
    },
    {
      "cell_type": "code",
      "metadata": {
        "id": "Cb5jqDmJbb1J"
      },
      "source": [
        "from glob import glob\n",
        "import pandas as pd\n",
        "import numpy as np\n",
        "from sklearn.preprocessing import MinMaxScaler\n",
        "from keras import optimizers, regularizers, metrics, regularizers, models, layers, utils\n",
        "from keras.preprocessing.image import ImageDataGenerator\n",
        "import tensorflow as tf\n",
        "import ntpath\n",
        "from PIL import Image \n",
        "from random import shuffle\n",
        "from sklearn.preprocessing import OneHotEncoder\n",
        "import os"
      ],
      "execution_count": null,
      "outputs": []
    },
    {
      "cell_type": "code",
      "metadata": {
        "id": "JcGWbROXcxiN",
        "colab": {
          "base_uri": "https://localhost:8080/"
        },
        "outputId": "d7e150c6-bf88-4039-d802-e6556bdb6e96"
      },
      "source": [
        "from google.colab import drive\n",
        "drive.mount('/content/drive')"
      ],
      "execution_count": null,
      "outputs": [
        {
          "output_type": "stream",
          "text": [
            "Mounted at /content/drive\n"
          ],
          "name": "stdout"
        }
      ]
    },
    {
      "cell_type": "code",
      "metadata": {
        "id": "MbJF8bCxcxlD"
      },
      "source": [
        "! cp \"/content/drive/My Drive/aoi/train.csv\" /content/\n",
        "! cp \"/content/drive/My Drive/aoi/test.csv\" /content/"
      ],
      "execution_count": null,
      "outputs": []
    },
    {
      "cell_type": "code",
      "metadata": {
        "id": "STGuToYEdkuu"
      },
      "source": [
        "! unzip /content/drive/MyDrive/train_images.zip > data_unzip.log"
      ],
      "execution_count": null,
      "outputs": []
    },
    {
      "cell_type": "code",
      "metadata": {
        "id": "xbcwtEusekYT"
      },
      "source": [
        "train_path = '/content/train_images/train/'\n",
        "valid_path = '/content/train_images/valid/'\n",
        "test_path = '/content/train_images/test/'\n"
      ],
      "execution_count": null,
      "outputs": []
    },
    {
      "cell_type": "code",
      "metadata": {
        "colab": {
          "base_uri": "https://localhost:8080/"
        },
        "id": "V3BajsTPhjxS",
        "outputId": "841970e4-236f-4791-c400-d59564f915ff"
      },
      "source": [
        "train_0 = glob(\"/content/train_images/train/0/*.png\") #查詢路徑方法\n",
        "train_1 = glob(\"/content/train_images/train/1/*.png\") \n",
        "train_2 = glob(\"/content/train_images/train/2/*.png\") \n",
        "train_3 = glob(\"/content/train_images/train/3/*.png\") \n",
        "train_4 = glob(\"/content/train_images/train/4/*.png\")\n",
        "train_5 = glob(\"/content/train_images/train/5/*.png\") \n",
        "\n",
        "\n",
        "test_0 = glob(\"/content/train_images/test/0/*.png\") \n",
        "test_1 = glob(\"/content/train_images/test/1/*.png\")\n",
        "test_2 = glob(\"/content/train_images/test/2/*.png\") \n",
        "test_3 = glob(\"/content/train_images/test/3/*.png\")\n",
        "test_4 = glob(\"/content/train_images/test/4/*.png\") \n",
        "test_5 = glob(\"/content/train_images/test/5/*.png\") \n",
        "\n",
        "valid_0 = glob(\"/content/train_images/valid/0/*.png\") \n",
        "valid_1 = glob(\"/content/train_images/valid/1/*.png\")\n",
        "valid_2 = glob(\"/content/train_images/valid/2/*.png\")\n",
        "valid_3 = glob(\"/content/train_images/valid/3/*.png\")\n",
        "valid_4 = glob(\"/content/train_images/valid/4/*.png\") \n",
        "valid_5 = glob(\"/content/train_images/valid/5/*.png\") \n",
        "\n",
        "print(\"train_0 : \", len(train_0))\n",
        "print(\"train_1 : \", len(train_1))\n",
        "print(\"train_2 : \", len(train_2))\n",
        "print(\"train_3 : \", len(train_3))\n",
        "print(\"train_4 : \", len(train_4))\n",
        "print(\"train_5 : \", len(train_5))\n",
        "print()\n",
        "\n",
        "print(\"test_0 : \", len(test_0))\n",
        "print(\"test_1 : \", len(test_1))\n",
        "print(\"test_2 : \", len(test_2))\n",
        "print(\"test_3 : \", len(test_3))\n",
        "print(\"test_4 : \", len(test_4))\n",
        "print(\"test_5 : \", len(test_5))\n",
        "print()\n",
        "\n",
        "print(\"valid_0 : \", len(valid_0))\n",
        "print(\"valid_1 : \", len(valid_1))\n",
        "print(\"valid_2 : \", len(valid_2))\n",
        "print(\"valid_3 : \", len(valid_3))\n",
        "print(\"valid_4 : \", len(valid_4))\n",
        "print(\"valid_5 : \", len(valid_5))"
      ],
      "execution_count": null,
      "outputs": [
        {
          "output_type": "stream",
          "text": [
            "train_0 :  492\n",
            "train_1 :  338\n",
            "train_2 :  73\n",
            "train_3 :  254\n",
            "train_4 :  168\n",
            "train_5 :  444\n",
            "\n",
            "test_0 :  86\n",
            "test_1 :  84\n",
            "test_2 :  10\n",
            "test_3 :  68\n",
            "test_4 :  40\n",
            "test_5 :  92\n",
            "\n",
            "valid_0 :  96\n",
            "valid_1 :  70\n",
            "valid_2 :  17\n",
            "valid_3 :  56\n",
            "valid_4 :  32\n",
            "valid_5 :  108\n"
          ],
          "name": "stdout"
        }
      ]
    },
    {
      "cell_type": "code",
      "metadata": {
        "id": "55unwUKhAgic"
      },
      "source": [
        "from glob import glob\n",
        "import pandas as pd\n",
        "import numpy as np\n",
        "from keras.applications.inception_v3 import InceptionV3\n",
        "from sklearn.preprocessing import MinMaxScaler\n",
        "from keras import optimizers, regularizers, metrics, regularizers, models, layers, utils\n",
        "from keras.preprocessing.image import ImageDataGenerator\n",
        "from keras.layers import Conv2D,MaxPooling2D,Activation,Flatten,Dense,Dropout\n",
        "import tensorflow as tf\n",
        "import ntpath\n",
        "from keras.applications.resnet50 import ResNet50\n",
        "from PIL import Image \n",
        "from random import shuffle\n",
        "from sklearn.preprocessing import OneHotEncoder\n",
        "import os\n",
        "from time import gmtime, strftime\n",
        "import matplotlib.pyplot as plt\n",
        "from keras.applications.inception_v3 import InceptionV3\n"
      ],
      "execution_count": null,
      "outputs": []
    },
    {
      "cell_type": "code",
      "metadata": {
        "id": "MDc_9plZhEjV"
      },
      "source": [
        "train_datagen = ImageDataGenerator(\n",
        "      rescale=1./255, #影象張量的數字縮放\n",
        "      rotation_range=40, # 角度值，0~180，影象旋轉\n",
        "      width_shift_range=0.2, # 水平平移，相對總寬度的比例\n",
        "      height_shift_range=0.2, # 垂直平移，相對總高度的比例\n",
        "      shear_range=0.2, # 隨機錯切換角度\n",
        "      zoom_range=0.2, # 隨機縮放範圍\n",
        "      horizontal_flip=True, # 一半影象水平翻轉\n",
        "      fill_mode='nearest') # 填充新建立畫素的方法"
      ],
      "execution_count": null,
      "outputs": []
    },
    {
      "cell_type": "code",
      "metadata": {
        "colab": {
          "base_uri": "https://localhost:8080/"
        },
        "id": "b-O6LrewhFWI",
        "outputId": "99d66f68-3934-4eea-b138-f761cebdd65f"
      },
      "source": [
        "train_generator = train_datagen.flow_from_directory(\n",
        "      train_path, # 目標目錄\n",
        "      target_size=(224, 224), # 所有影象調整為150x150\n",
        "      classes=['0', '1', '2', '3', '4', '5'],\n",
        "      batch_size=32,\n",
        "      class_mode='categorical')"
      ],
      "execution_count": null,
      "outputs": [
        {
          "output_type": "stream",
          "text": [
            "Found 1769 images belonging to 6 classes.\n"
          ],
          "name": "stdout"
        }
      ]
    },
    {
      "cell_type": "code",
      "metadata": {
        "id": "njKxORz5bnGZ",
        "colab": {
          "base_uri": "https://localhost:8080/"
        },
        "outputId": "1e36e40a-a6d7-4289-a52f-d5d4f72f70f6"
      },
      "source": [
        "train_generator.image_shape"
      ],
      "execution_count": null,
      "outputs": [
        {
          "output_type": "execute_result",
          "data": {
            "text/plain": [
              "(224, 224, 3)"
            ]
          },
          "metadata": {
            "tags": []
          },
          "execution_count": 10
        }
      ]
    },
    {
      "cell_type": "code",
      "metadata": {
        "id": "uOCgV9PzhHnF",
        "colab": {
          "base_uri": "https://localhost:8080/"
        },
        "outputId": "edc237f5-cd00-4e62-cb78-5c7683e39495"
      },
      "source": [
        "test_datagen = ImageDataGenerator(rescale=1./255)\n",
        "\n",
        "validation_generator = test_datagen.flow_from_directory(\n",
        "        valid_path,\n",
        "        target_size=(224, 224),\n",
        "        classes=['0', '1', '2', '3', '4', '5'],\n",
        "        batch_size=32,\n",
        "        class_mode='categorical')"
      ],
      "execution_count": null,
      "outputs": [
        {
          "output_type": "stream",
          "text": [
            "Found 379 images belonging to 6 classes.\n"
          ],
          "name": "stdout"
        }
      ]
    },
    {
      "cell_type": "code",
      "metadata": {
        "id": "GPNtReCFGn-a",
        "colab": {
          "base_uri": "https://localhost:8080/"
        },
        "outputId": "abd9bf93-8dd8-43b8-8951-63d54dbf2edf"
      },
      "source": [
        "from keras.applications.densenet import DenseNet121, preprocess_input\n",
        "from tensorflow import keras\n",
        "from tensorflow.keras.models import Sequential\n",
        "import tensorflow as tf\n",
        "\n",
        "conv_base = ResNet50(weights='imagenet', \n",
        "                  include_top=False,\n",
        "                  input_shape=(224,224,3))\n",
        "model = models.Sequential()\n",
        "# model.call = tf.function(model.call)\n",
        "\n",
        "model.add(conv_base)\n",
        "\n",
        "model.add(Conv2D(32, (1, 1),activation=\"relu\"))\n",
        "model.add(Dropout(0.2))\n",
        "model.add(Conv2D(64,(3, 3),activation=\"relu\"))\n",
        "model.add(Dropout(0.2))\n",
        "model.add(Flatten())\n",
        "model.add(Dense(32))\n",
        "model.add(Dense(64))\n",
        "model.add(Dense(64))\n",
        "\n",
        "model.add(Dense(6,activation='softmax'))"
      ],
      "execution_count": null,
      "outputs": [
        {
          "output_type": "stream",
          "text": [
            "Downloading data from https://storage.googleapis.com/tensorflow/keras-applications/resnet/resnet50_weights_tf_dim_ordering_tf_kernels_notop.h5\n",
            "94773248/94765736 [==============================] - 1s 0us/step\n"
          ],
          "name": "stdout"
        }
      ]
    },
    {
      "cell_type": "code",
      "metadata": {
        "colab": {
          "base_uri": "https://localhost:8080/"
        },
        "id": "EU2OEOFAG5_Z",
        "outputId": "902a07ae-0642-4cd7-c9b9-c8c7de08bd7b"
      },
      "source": [
        "model.compile(loss='categorical_crossentropy',\n",
        "              optimizer=optimizers.RMSprop(lr=2e-5),\n",
        "              metrics=['acc'])\n",
        "\n",
        "# model.summary()"
      ],
      "execution_count": null,
      "outputs": [
        {
          "output_type": "stream",
          "text": [
            "/usr/local/lib/python3.7/dist-packages/tensorflow/python/keras/optimizer_v2/optimizer_v2.py:375: UserWarning: The `lr` argument is deprecated, use `learning_rate` instead.\n",
            "  \"The `lr` argument is deprecated, use `learning_rate` instead.\")\n"
          ],
          "name": "stderr"
        }
      ]
    },
    {
      "cell_type": "code",
      "metadata": {
        "colab": {
          "base_uri": "https://localhost:8080/"
        },
        "id": "NalcbhKrGojF",
        "outputId": "b22cfd47-8420-46f2-cd92-2aabc3fc5151"
      },
      "source": [
        "history = model.fit_generator(\n",
        "      train_generator,\n",
        "      steps_per_epoch=50,\n",
        "      epochs=46,\n",
        "      validation_data=validation_generator,\n",
        "      validation_steps=10\n",
        ")"
      ],
      "execution_count": null,
      "outputs": [
        {
          "output_type": "stream",
          "text": [
            "/usr/local/lib/python3.7/dist-packages/keras/engine/training.py:1915: UserWarning: `Model.fit_generator` is deprecated and will be removed in a future version. Please use `Model.fit`, which supports generators.\n",
            "  warnings.warn('`Model.fit_generator` is deprecated and '\n"
          ],
          "name": "stderr"
        },
        {
          "output_type": "stream",
          "text": [
            "Epoch 1/46\n",
            "50/50 [==============================] - 61s 598ms/step - loss: 1.7915 - acc: 0.3284 - val_loss: 1.9435 - val_acc: 0.2594\n",
            "Epoch 2/46\n",
            "50/50 [==============================] - 29s 575ms/step - loss: 1.1630 - acc: 0.5740 - val_loss: 1.8047 - val_acc: 0.2594\n",
            "Epoch 3/46\n",
            "50/50 [==============================] - 28s 551ms/step - loss: 0.8313 - acc: 0.7028 - val_loss: 4.8874 - val_acc: 0.0781\n",
            "Epoch 4/46\n",
            "50/50 [==============================] - 29s 567ms/step - loss: 0.5980 - acc: 0.7961 - val_loss: 7.7327 - val_acc: 0.0656\n",
            "Epoch 5/46\n",
            "50/50 [==============================] - 28s 562ms/step - loss: 0.4137 - acc: 0.8643 - val_loss: 12.6981 - val_acc: 0.0719\n",
            "Epoch 6/46\n",
            "50/50 [==============================] - 29s 579ms/step - loss: 0.3677 - acc: 0.8766 - val_loss: 16.6544 - val_acc: 0.0812\n",
            "Epoch 7/46\n",
            "50/50 [==============================] - 28s 558ms/step - loss: 0.2839 - acc: 0.9102 - val_loss: 19.7211 - val_acc: 0.0875\n",
            "Epoch 8/46\n",
            "50/50 [==============================] - 29s 578ms/step - loss: 0.2232 - acc: 0.9354 - val_loss: 14.0198 - val_acc: 0.0844\n",
            "Epoch 9/46\n",
            "50/50 [==============================] - 28s 554ms/step - loss: 0.1406 - acc: 0.9578 - val_loss: 12.9894 - val_acc: 0.0906\n",
            "Epoch 10/46\n",
            "50/50 [==============================] - 29s 579ms/step - loss: 0.1592 - acc: 0.9532 - val_loss: 13.7813 - val_acc: 0.0969\n",
            "Epoch 11/46\n",
            "50/50 [==============================] - 28s 555ms/step - loss: 0.1049 - acc: 0.9711 - val_loss: 8.4985 - val_acc: 0.0938\n",
            "Epoch 12/46\n",
            "50/50 [==============================] - 29s 583ms/step - loss: 0.1074 - acc: 0.9663 - val_loss: 8.9631 - val_acc: 0.1063\n",
            "Epoch 13/46\n",
            "50/50 [==============================] - 28s 555ms/step - loss: 0.1246 - acc: 0.9643 - val_loss: 6.2031 - val_acc: 0.1312\n",
            "Epoch 14/46\n",
            "50/50 [==============================] - 28s 561ms/step - loss: 0.0963 - acc: 0.9708 - val_loss: 5.1300 - val_acc: 0.1281\n",
            "Epoch 15/46\n",
            "50/50 [==============================] - 28s 566ms/step - loss: 0.0678 - acc: 0.9786 - val_loss: 3.8309 - val_acc: 0.1500\n",
            "Epoch 16/46\n",
            "50/50 [==============================] - 29s 573ms/step - loss: 0.0911 - acc: 0.9720 - val_loss: 2.9538 - val_acc: 0.2281\n",
            "Epoch 17/46\n",
            "50/50 [==============================] - 28s 559ms/step - loss: 0.0799 - acc: 0.9774 - val_loss: 2.4128 - val_acc: 0.3625\n",
            "Epoch 18/46\n",
            "50/50 [==============================] - 29s 571ms/step - loss: 0.0500 - acc: 0.9853 - val_loss: 2.1484 - val_acc: 0.4812\n",
            "Epoch 19/46\n",
            "50/50 [==============================] - 28s 556ms/step - loss: 0.0485 - acc: 0.9853 - val_loss: 1.7285 - val_acc: 0.5750\n",
            "Epoch 20/46\n",
            "50/50 [==============================] - 29s 568ms/step - loss: 0.0649 - acc: 0.9787 - val_loss: 1.2477 - val_acc: 0.7312\n",
            "Epoch 21/46\n",
            "50/50 [==============================] - 28s 557ms/step - loss: 0.0739 - acc: 0.9799 - val_loss: 0.8876 - val_acc: 0.7937\n",
            "Epoch 22/46\n",
            "50/50 [==============================] - 29s 576ms/step - loss: 0.0502 - acc: 0.9816 - val_loss: 0.5471 - val_acc: 0.8625\n",
            "Epoch 23/46\n",
            "50/50 [==============================] - 28s 551ms/step - loss: 0.0560 - acc: 0.9831 - val_loss: 0.4111 - val_acc: 0.9031\n",
            "Epoch 24/46\n",
            "50/50 [==============================] - 29s 569ms/step - loss: 0.0525 - acc: 0.9875 - val_loss: 0.3556 - val_acc: 0.9219\n",
            "Epoch 25/46\n",
            "50/50 [==============================] - 29s 570ms/step - loss: 0.0460 - acc: 0.9882 - val_loss: 0.3512 - val_acc: 0.9062\n",
            "Epoch 26/46\n",
            "50/50 [==============================] - 28s 561ms/step - loss: 0.0675 - acc: 0.9833 - val_loss: 0.2780 - val_acc: 0.9187\n",
            "Epoch 27/46\n",
            "50/50 [==============================] - 29s 566ms/step - loss: 0.0625 - acc: 0.9796 - val_loss: 0.2638 - val_acc: 0.9406\n",
            "Epoch 28/46\n",
            "50/50 [==============================] - 28s 553ms/step - loss: 0.0367 - acc: 0.9851 - val_loss: 0.1156 - val_acc: 0.9781\n",
            "Epoch 29/46\n",
            "50/50 [==============================] - 29s 570ms/step - loss: 0.0218 - acc: 0.9949 - val_loss: 0.1266 - val_acc: 0.9781\n",
            "Epoch 30/46\n",
            "50/50 [==============================] - 28s 560ms/step - loss: 0.0604 - acc: 0.9854 - val_loss: 0.1656 - val_acc: 0.9719\n",
            "Epoch 31/46\n",
            "50/50 [==============================] - 29s 567ms/step - loss: 0.0561 - acc: 0.9879 - val_loss: 0.1229 - val_acc: 0.9812\n",
            "Epoch 32/46\n",
            "50/50 [==============================] - 28s 554ms/step - loss: 0.0413 - acc: 0.9860 - val_loss: 0.1738 - val_acc: 0.9656\n",
            "Epoch 33/46\n",
            "50/50 [==============================] - 29s 575ms/step - loss: 0.0654 - acc: 0.9840 - val_loss: 0.5940 - val_acc: 0.8750\n",
            "Epoch 34/46\n",
            "50/50 [==============================] - 28s 548ms/step - loss: 0.0217 - acc: 0.9946 - val_loss: 0.1456 - val_acc: 0.9875\n",
            "Epoch 35/46\n",
            "50/50 [==============================] - 29s 577ms/step - loss: 0.0315 - acc: 0.9900 - val_loss: 0.4637 - val_acc: 0.9219\n",
            "Epoch 36/46\n",
            "50/50 [==============================] - 29s 566ms/step - loss: 0.0172 - acc: 0.9974 - val_loss: 0.0788 - val_acc: 0.9875\n",
            "Epoch 37/46\n",
            "50/50 [==============================] - 28s 550ms/step - loss: 0.0248 - acc: 0.9918 - val_loss: 0.1043 - val_acc: 0.9906\n",
            "Epoch 38/46\n",
            "50/50 [==============================] - 29s 576ms/step - loss: 0.0798 - acc: 0.9776 - val_loss: 0.1809 - val_acc: 0.9875\n",
            "Epoch 39/46\n",
            "50/50 [==============================] - 28s 551ms/step - loss: 0.0387 - acc: 0.9899 - val_loss: 0.1886 - val_acc: 0.9812\n",
            "Epoch 40/46\n",
            "50/50 [==============================] - 29s 573ms/step - loss: 0.0295 - acc: 0.9919 - val_loss: 0.1465 - val_acc: 0.9875\n",
            "Epoch 41/46\n",
            "50/50 [==============================] - 28s 558ms/step - loss: 0.0381 - acc: 0.9897 - val_loss: 0.2017 - val_acc: 0.9812\n",
            "Epoch 42/46\n",
            "50/50 [==============================] - 29s 577ms/step - loss: 0.0263 - acc: 0.9949 - val_loss: 0.2078 - val_acc: 0.9812\n",
            "Epoch 43/46\n",
            "50/50 [==============================] - 28s 549ms/step - loss: 0.0231 - acc: 0.9935 - val_loss: 0.2244 - val_acc: 0.9719\n",
            "Epoch 44/46\n",
            "50/50 [==============================] - 28s 563ms/step - loss: 0.0219 - acc: 0.9922 - val_loss: 0.1732 - val_acc: 0.9750\n",
            "Epoch 45/46\n",
            "50/50 [==============================] - 29s 570ms/step - loss: 0.0259 - acc: 0.9928 - val_loss: 0.4310 - val_acc: 0.9344\n",
            "Epoch 46/46\n",
            "50/50 [==============================] - 29s 568ms/step - loss: 0.0339 - acc: 0.9893 - val_loss: 0.1666 - val_acc: 0.9406\n"
          ],
          "name": "stdout"
        }
      ]
    },
    {
      "cell_type": "code",
      "metadata": {
        "id": "nS9sfDRIOaa5",
        "colab": {
          "base_uri": "https://localhost:8080/"
        },
        "outputId": "5f01975e-7126-4ec1-cf8f-391c542fb1e7"
      },
      "source": [
        "test_generator = test_datagen.flow_from_directory(\n",
        "        test_path,\n",
        "        target_size=(224, 224),\n",
        "        classes=['0', '1', '2', '3', '4', '5'],\n",
        "        batch_size=32,\n",
        "        class_mode='categorical')"
      ],
      "execution_count": null,
      "outputs": [
        {
          "output_type": "stream",
          "text": [
            "Found 380 images belonging to 6 classes.\n"
          ],
          "name": "stdout"
        }
      ]
    },
    {
      "cell_type": "code",
      "metadata": {
        "id": "9Zgfzm7NOljK",
        "colab": {
          "base_uri": "https://localhost:8080/"
        },
        "outputId": "13643eee-eba9-42c2-f1a4-1af879d78ac6"
      },
      "source": [
        "steps=test_generator.samples//test_generator.batch_size\n",
        "print(steps)"
      ],
      "execution_count": null,
      "outputs": [
        {
          "output_type": "stream",
          "text": [
            "11\n"
          ],
          "name": "stdout"
        }
      ]
    },
    {
      "cell_type": "code",
      "metadata": {
        "id": "08X7SbOWUR4r",
        "colab": {
          "base_uri": "https://localhost:8080/"
        },
        "outputId": "0edcb3ce-7c54-43f6-d473-6070ae589a48"
      },
      "source": [
        "print(tf.executing_eagerly())\n",
        "print(tf.__version__)"
      ],
      "execution_count": null,
      "outputs": [
        {
          "output_type": "stream",
          "text": [
            "True\n",
            "2.5.0\n"
          ],
          "name": "stdout"
        }
      ]
    },
    {
      "cell_type": "code",
      "metadata": {
        "id": "phKm-4L1OdW-",
        "colab": {
          "base_uri": "https://localhost:8080/"
        },
        "outputId": "e7e4e4b2-a989-480c-f64e-7f8fb0e9f99e"
      },
      "source": [
        "test_loss, test_acc = model.evaluate_generator(\n",
        "\ttest_generator, \n",
        "\tsteps=test_generator.samples//test_generator.batch_size)"
      ],
      "execution_count": null,
      "outputs": [
        {
          "output_type": "stream",
          "text": [
            "/usr/local/lib/python3.7/dist-packages/keras/engine/training.py:1948: UserWarning: `Model.evaluate_generator` is deprecated and will be removed in a future version. Please use `Model.evaluate`, which supports generators.\n",
            "  warnings.warn('`Model.evaluate_generator` is deprecated and '\n"
          ],
          "name": "stderr"
        }
      ]
    },
    {
      "cell_type": "code",
      "metadata": {
        "id": "IJIIzOSEO0hr",
        "colab": {
          "base_uri": "https://localhost:8080/"
        },
        "outputId": "c7e0e49a-54c1-4bf0-e642-439324add8d3"
      },
      "source": [
        "print('test acc:', test_acc)\n"
      ],
      "execution_count": null,
      "outputs": [
        {
          "output_type": "stream",
          "text": [
            "test acc: 0.9460227489471436\n"
          ],
          "name": "stdout"
        }
      ]
    },
    {
      "cell_type": "code",
      "metadata": {
        "id": "93QKZJU6MSjT",
        "colab": {
          "base_uri": "https://localhost:8080/",
          "height": 312
        },
        "outputId": "b150d032-3285-472f-f0ce-5d9a3e8e1867"
      },
      "source": [
        "# plot model loss & save\n",
        "plt.plot(history.history['loss'])\n",
        "plt.plot(history.history['val_loss'])\n",
        "plt.title('model loss')\n",
        "plt.ylabel('loss')\n",
        "plt.xlabel('epoch')\n",
        "plt.legend(['train', 'test'], loc='upper left')"
      ],
      "execution_count": null,
      "outputs": [
        {
          "output_type": "execute_result",
          "data": {
            "text/plain": [
              "<matplotlib.legend.Legend at 0x7fc40949f4d0>"
            ]
          },
          "metadata": {
            "tags": []
          },
          "execution_count": 20
        },
        {
          "output_type": "display_data",
          "data": {
            "image/png": "[encoded data removed]",
            "text/plain": [
              "<Figure size 432x288 with 1 Axes>"
            ]
          },
          "metadata": {
            "tags": [],
            "needs_background": "light"
          }
        }
      ]
    },
    {
      "cell_type": "code",
      "metadata": {
        "id": "e2SVPMDtMpII",
        "colab": {
          "base_uri": "https://localhost:8080/",
          "height": 312
        },
        "outputId": "10e37a56-7584-4044-d50b-0a5cb56a0ce7"
      },
      "source": [
        "# plot model accuracy & save\n",
        "plt.plot(history.history['acc'])\n",
        "plt.plot(history.history['val_acc'])\n",
        "plt.title('model accuracy')\n",
        "plt.ylabel('accuracy')\n",
        "plt.xlabel('epoch')\n",
        "plt.legend(['train', 'test'], loc='upper left')"
      ],
      "execution_count": null,
      "outputs": [
        {
          "output_type": "execute_result",
          "data": {
            "text/plain": [
              "<matplotlib.legend.Legend at 0x7fc40944b050>"
            ]
          },
          "metadata": {
            "tags": []
          },
          "execution_count": 21
        },
        {
          "output_type": "display_data",
          "data": {
            "image/png": "[encoded data removed]",
            "text/plain": [
              "<Figure size 432x288 with 1 Axes>"
            ]
          },
          "metadata": {
            "tags": [],
            "needs_background": "light"
          }
        }
      ]
    },
    {
      "cell_type": "markdown",
      "metadata": {
        "id": "ckuB1K_eN-IC"
      },
      "source": [
        ""
      ]
    },
    {
      "cell_type": "code",
      "metadata": {
        "id": "-pm4HL479EqD",
        "colab": {
          "base_uri": "https://localhost:8080/"
        },
        "outputId": "9fcc72db-60fa-4457-a0fe-9342ddb95e7a"
      },
      "source": [
        "test_loss, test_acc = model.evaluate_generator(\n",
        "\ttest_generator, \n",
        "\tsteps=test_generator.samples//test_generator.batch_size)"
      ],
      "execution_count": null,
      "outputs": [
        {
          "output_type": "stream",
          "text": [
            "/usr/local/lib/python3.7/dist-packages/keras/engine/training.py:1948: UserWarning: `Model.evaluate_generator` is deprecated and will be removed in a future version. Please use `Model.evaluate`, which supports generators.\n",
            "  warnings.warn('`Model.evaluate_generator` is deprecated and '\n"
          ],
          "name": "stderr"
        }
      ]
    },
    {
      "cell_type": "code",
      "metadata": {
        "id": "hN4_zA9G9EtL",
        "colab": {
          "base_uri": "https://localhost:8080/"
        },
        "outputId": "6afdff29-5c2b-4de0-d590-6dcb4d4d6196"
      },
      "source": [
        "print('test acc:', test_acc)\n"
      ],
      "execution_count": null,
      "outputs": [
        {
          "output_type": "stream",
          "text": [
            "test acc: 0.9460227489471436\n"
          ],
          "name": "stdout"
        }
      ]
    },
    {
      "cell_type": "code",
      "metadata": {
        "id": "9Jbz58WjzBn7"
      },
      "source": [
        "! unzip /content/drive/MyDrive/aoi/test_images.zip > data_unzip.log"
      ],
      "execution_count": null,
      "outputs": []
    },
    {
      "cell_type": "code",
      "metadata": {
        "id": "u26BoaAmzLc-"
      },
      "source": [
        "test_path2 = 'test_images/'\n"
      ],
      "execution_count": null,
      "outputs": []
    },
    {
      "cell_type": "code",
      "metadata": {
        "id": "kythm4MSJnmE",
        "colab": {
          "base_uri": "https://localhost:8080/"
        },
        "outputId": "f1c42577-978d-4910-9734-b9e38963f3d7"
      },
      "source": [
        "test_datagen = ImageDataGenerator(rescale=1./255)\n",
        "\n",
        "test_generator2 = test_datagen.flow_from_directory(\n",
        "        '.',\n",
        "        target_size=(224, 224),\n",
        "        class_mode='categorical',\n",
        "        classes=['test_images'],\n",
        "\t      batch_size=1,\n",
        "\t      shuffle=False)"
      ],
      "execution_count": null,
      "outputs": [
        {
          "output_type": "stream",
          "text": [
            "Found 10142 images belonging to 1 classes.\n"
          ],
          "name": "stdout"
        }
      ]
    },
    {
      "cell_type": "code",
      "metadata": {
        "id": "axj45xNLynoy",
        "colab": {
          "base_uri": "https://localhost:8080/"
        },
        "outputId": "d539b8f3-eecc-4844-e4bd-17e160cd04cb"
      },
      "source": [
        "steps2=test_generator2.samples//test_generator2.batch_size\n",
        "print(steps2)"
      ],
      "execution_count": null,
      "outputs": [
        {
          "output_type": "stream",
          "text": [
            "10142\n"
          ],
          "name": "stdout"
        }
      ]
    },
    {
      "cell_type": "code",
      "metadata": {
        "id": "rLaLq3f0NHr5",
        "colab": {
          "base_uri": "https://localhost:8080/"
        },
        "outputId": "b661e566-8a0c-4dde-adc8-6435d4659038"
      },
      "source": [
        "predict = model.predict_generator(\n",
        "    test_generator2,\n",
        "    steps=test_generator2.samples//test_generator2.batch_size)\n"
      ],
      "execution_count": null,
      "outputs": [
        {
          "output_type": "stream",
          "text": [
            "/usr/local/lib/python3.7/dist-packages/keras/engine/training.py:1976: UserWarning: `Model.predict_generator` is deprecated and will be removed in a future version. Please use `Model.predict`, which supports generators.\n",
            "  warnings.warn('`Model.predict_generator` is deprecated and '\n"
          ],
          "name": "stderr"
        }
      ]
    },
    {
      "cell_type": "code",
      "metadata": {
        "id": "2R3mEKu4NMYB",
        "colab": {
          "base_uri": "https://localhost:8080/"
        },
        "outputId": "ac3e08e7-7368-420e-8b03-ee5b965c9092"
      },
      "source": [
        "import csv\n",
        "i =0 \n",
        "#f1 = open (\"inFile\",\"r\") # open input file for reading\n",
        "with open('output.csv', 'w') as csvfile:\n",
        "\twriter = csv.writer(csvfile)\n",
        "\twriter.writerow(['ID', 'Label'])\n",
        "\t#print(len(predict))\n",
        "\twhile i < len(predict):\n",
        "\t\t#image, label = test_generator2._get_batches_of_transformed_samples(np.array([i]))\n",
        "\t\timage_name = test_generator2.filenames[i]\n",
        "\t\tresult=np.where(predict[i] == np.amax(predict[i]))[0][0]\n",
        "\t\twriter.writerow([image_name, result])\n",
        "\t\ti=i+1\n",
        "\tprint(i)"
      ],
      "execution_count": null,
      "outputs": [
        {
          "output_type": "stream",
          "text": [
            "10142\n"
          ],
          "name": "stdout"
        }
      ]
    },
    {
      "cell_type": "code",
      "metadata": {
        "id": "-o-vPvtONPYL"
      },
      "source": [
        "result = pd.read_csv('output.csv')\n",
        "result[\"ID\"] = result[\"ID\"].str.replace(\"test_images/t\",\"t\")\n"
      ],
      "execution_count": null,
      "outputs": []
    },
    {
      "cell_type": "code",
      "metadata": {
        "id": "MzSr-swgNSL3"
      },
      "source": [
        "import pandas as pd\n",
        "result.to_csv('Result_ResNet50.csv', index=False )"
      ],
      "execution_count": null,
      "outputs": []
    }
  ]
}