{
  "nbformat": 4,
  "nbformat_minor": 0,
  "metadata": {
    "colab": {
      "name": "Aidea_AOI_ResNet50_40.ipynb",
      "provenance": [],
      "collapsed_sections": [],
      "include_colab_link": true
    },
    "kernelspec": {
      "name": "python3",
      "display_name": "Python 3"
    },
    "language_info": {
      "name": "python"
    },
    "accelerator": "GPU"
  },
  "cells": [
    {
      "cell_type": "markdown",
      "metadata": {
        "id": "view-in-github",
        "colab_type": "text"
      },
      "source": [
        "<a href=\"https://colab.research.google.com/github/jennychen0223/Automated_Optical_Inspection-AOI/blob/main/Aidea_AOI_ResNet50_40.ipynb\" target=\"_parent\"><img src=\"https://colab.research.google.com/assets/colab-badge.svg\" alt=\"Open In Colab\"/></a>"
      ]
    },
    {
      "cell_type": "code",
      "metadata": {
        "id": "Cb5jqDmJbb1J"
      },
      "source": [
        "from glob import glob\n",
        "import pandas as pd\n",
        "import numpy as np\n",
        "from sklearn.preprocessing import MinMaxScaler\n",
        "from keras import optimizers, regularizers, metrics, regularizers, models, layers, utils\n",
        "from keras.preprocessing.image import ImageDataGenerator\n",
        "import tensorflow as tf\n",
        "import ntpath\n",
        "from PIL import Image \n",
        "from random import shuffle\n",
        "from sklearn.preprocessing import OneHotEncoder\n",
        "import os"
      ],
      "execution_count": null,
      "outputs": []
    },
    {
      "cell_type": "code",
      "metadata": {
        "id": "JcGWbROXcxiN",
        "colab": {
          "base_uri": "https://localhost:8080/"
        },
        "outputId": "676bda2b-1c22-4dde-ea93-181224351deb"
      },
      "source": [
        "from google.colab import drive\n",
        "drive.mount('/content/drive')"
      ],
      "execution_count": null,
      "outputs": [
        {
          "output_type": "stream",
          "text": [
            "Drive already mounted at /content/drive; to attempt to forcibly remount, call drive.mount(\"/content/drive\", force_remount=True).\n"
          ],
          "name": "stdout"
        }
      ]
    },
    {
      "cell_type": "code",
      "metadata": {
        "id": "MbJF8bCxcxlD"
      },
      "source": [
        "! cp \"/content/drive/My Drive/aoi/train.csv\" /content/\n",
        "! cp \"/content/drive/My Drive/aoi/test.csv\" /content/"
      ],
      "execution_count": null,
      "outputs": []
    },
    {
      "cell_type": "code",
      "metadata": {
        "id": "STGuToYEdkuu",
        "colab": {
          "base_uri": "https://localhost:8080/"
        },
        "outputId": "b1d1007f-60bd-4082-e2bf-45fa3d0b8efb"
      },
      "source": [
        "! unzip /content/drive/MyDrive/train_images.zip > data_unzip.log"
      ],
      "execution_count": null,
      "outputs": [
        {
          "output_type": "stream",
          "text": [
            "replace train_images/train/4/train_02323.png? [y]es, [n]o, [A]ll, [N]one, [r]ename: A\n"
          ],
          "name": "stdout"
        }
      ]
    },
    {
      "cell_type": "code",
      "metadata": {
        "id": "xbcwtEusekYT"
      },
      "source": [
        "train_path = '/content/train_images/train/'\n",
        "valid_path = '/content/train_images/valid/'\n",
        "test_path = '/content/train_images/test/'\n"
      ],
      "execution_count": null,
      "outputs": []
    },
    {
      "cell_type": "code",
      "metadata": {
        "colab": {
          "base_uri": "https://localhost:8080/"
        },
        "id": "V3BajsTPhjxS",
        "outputId": "e9f6aed8-e44d-4d2c-98c2-d17727a1a53d"
      },
      "source": [
        "train_0 = glob(\"/content/train_images/train/0/*.png\") #查詢路徑方法\n",
        "train_1 = glob(\"/content/train_images/train/1/*.png\") \n",
        "train_2 = glob(\"/content/train_images/train/2/*.png\") \n",
        "train_3 = glob(\"/content/train_images/train/3/*.png\") \n",
        "train_4 = glob(\"/content/train_images/train/4/*.png\")\n",
        "train_5 = glob(\"/content/train_images/train/5/*.png\") \n",
        "\n",
        "\n",
        "test_0 = glob(\"/content/train_images/test/0/*.png\") \n",
        "test_1 = glob(\"/content/train_images/test/1/*.png\")\n",
        "test_2 = glob(\"/content/train_images/test/2/*.png\") \n",
        "test_3 = glob(\"/content/train_images/test/3/*.png\")\n",
        "test_4 = glob(\"/content/train_images/test/4/*.png\") \n",
        "test_5 = glob(\"/content/train_images/test/5/*.png\") \n",
        "\n",
        "valid_0 = glob(\"/content/train_images/valid/0/*.png\") \n",
        "valid_1 = glob(\"/content/train_images/valid/1/*.png\")\n",
        "valid_2 = glob(\"/content/train_images/valid/2/*.png\")\n",
        "valid_3 = glob(\"/content/train_images/valid/3/*.png\")\n",
        "valid_4 = glob(\"/content/train_images/valid/4/*.png\") \n",
        "valid_5 = glob(\"/content/train_images/valid/5/*.png\") \n",
        "\n",
        "print(\"train_0 : \", len(train_0))\n",
        "print(\"train_1 : \", len(train_1))\n",
        "print(\"train_2 : \", len(train_2))\n",
        "print(\"train_3 : \", len(train_3))\n",
        "print(\"train_4 : \", len(train_4))\n",
        "print(\"train_5 : \", len(train_5))\n",
        "print()\n",
        "\n",
        "print(\"test_0 : \", len(test_0))\n",
        "print(\"test_1 : \", len(test_1))\n",
        "print(\"test_2 : \", len(test_2))\n",
        "print(\"test_3 : \", len(test_3))\n",
        "print(\"test_4 : \", len(test_4))\n",
        "print(\"test_5 : \", len(test_5))\n",
        "print()\n",
        "\n",
        "print(\"valid_0 : \", len(valid_0))\n",
        "print(\"valid_1 : \", len(valid_1))\n",
        "print(\"valid_2 : \", len(valid_2))\n",
        "print(\"valid_3 : \", len(valid_3))\n",
        "print(\"valid_4 : \", len(valid_4))\n",
        "print(\"valid_5 : \", len(valid_5))"
      ],
      "execution_count": null,
      "outputs": [
        {
          "output_type": "stream",
          "text": [
            "train_0 :  492\n",
            "train_1 :  338\n",
            "train_2 :  73\n",
            "train_3 :  254\n",
            "train_4 :  168\n",
            "train_5 :  444\n",
            "\n",
            "test_0 :  86\n",
            "test_1 :  84\n",
            "test_2 :  10\n",
            "test_3 :  68\n",
            "test_4 :  40\n",
            "test_5 :  92\n",
            "\n",
            "valid_0 :  96\n",
            "valid_1 :  70\n",
            "valid_2 :  17\n",
            "valid_3 :  56\n",
            "valid_4 :  32\n",
            "valid_5 :  108\n"
          ],
          "name": "stdout"
        }
      ]
    },
    {
      "cell_type": "code",
      "metadata": {
        "id": "55unwUKhAgic"
      },
      "source": [
        "from glob import glob\n",
        "import pandas as pd\n",
        "import numpy as np\n",
        "from keras.applications.inception_v3 import InceptionV3\n",
        "from sklearn.preprocessing import MinMaxScaler\n",
        "from keras import optimizers, regularizers, metrics, regularizers, models, layers, utils\n",
        "from keras.preprocessing.image import ImageDataGenerator\n",
        "from keras.layers import Conv2D,MaxPooling2D,Activation,Flatten,Dense,Dropout\n",
        "import tensorflow as tf\n",
        "import ntpath\n",
        "from keras.applications.resnet50 import ResNet50\n",
        "from PIL import Image \n",
        "from random import shuffle\n",
        "from sklearn.preprocessing import OneHotEncoder\n",
        "import os\n",
        "from time import gmtime, strftime\n",
        "import matplotlib.pyplot as plt\n"
      ],
      "execution_count": null,
      "outputs": []
    },
    {
      "cell_type": "code",
      "metadata": {
        "id": "MDc_9plZhEjV"
      },
      "source": [
        "train_datagen = ImageDataGenerator(\n",
        "      rescale=1./255, #影象張量的數字縮放\n",
        "      rotation_range=40, # 角度值，0~180，影象旋轉\n",
        "      width_shift_range=0.2, # 水平平移，相對總寬度的比例\n",
        "      height_shift_range=0.2, # 垂直平移，相對總高度的比例\n",
        "      shear_range=0.2, # 隨機錯切換角度\n",
        "      zoom_range=0.2, # 隨機縮放範圍\n",
        "      horizontal_flip=True, # 一半影象水平翻轉\n",
        "      fill_mode='nearest') # 填充新建立畫素的方法"
      ],
      "execution_count": null,
      "outputs": []
    },
    {
      "cell_type": "code",
      "metadata": {
        "colab": {
          "base_uri": "https://localhost:8080/"
        },
        "id": "b-O6LrewhFWI",
        "outputId": "c41ba4ee-b87b-4c67-8f62-6733a4089cef"
      },
      "source": [
        "train_generator = train_datagen.flow_from_directory(\n",
        "      train_path, # 目標目錄\n",
        "      target_size=(224, 224), # 所有影象調整為150x150\n",
        "      classes=['0', '1', '2', '3', '4', '5'],\n",
        "      batch_size=32,\n",
        "      class_mode='categorical')"
      ],
      "execution_count": null,
      "outputs": [
        {
          "output_type": "stream",
          "text": [
            "Found 1769 images belonging to 6 classes.\n"
          ],
          "name": "stdout"
        }
      ]
    },
    {
      "cell_type": "code",
      "metadata": {
        "id": "njKxORz5bnGZ",
        "colab": {
          "base_uri": "https://localhost:8080/"
        },
        "outputId": "f4dc3e74-5f5f-4fe5-ac81-08790a690dad"
      },
      "source": [
        "train_generator.image_shape"
      ],
      "execution_count": null,
      "outputs": [
        {
          "output_type": "execute_result",
          "data": {
            "text/plain": [
              "(224, 224, 3)"
            ]
          },
          "metadata": {
            "tags": []
          },
          "execution_count": 10
        }
      ]
    },
    {
      "cell_type": "code",
      "metadata": {
        "id": "uOCgV9PzhHnF",
        "colab": {
          "base_uri": "https://localhost:8080/"
        },
        "outputId": "d3b980b4-b0fb-41bb-8344-32d1c64cb2d0"
      },
      "source": [
        "test_datagen = ImageDataGenerator(rescale=1./255)\n",
        "\n",
        "validation_generator = test_datagen.flow_from_directory(\n",
        "        valid_path,\n",
        "        target_size=(224, 224),\n",
        "        classes=['0', '1', '2', '3', '4', '5'],\n",
        "        batch_size=32,\n",
        "        class_mode='categorical')"
      ],
      "execution_count": null,
      "outputs": [
        {
          "output_type": "stream",
          "text": [
            "Found 379 images belonging to 6 classes.\n"
          ],
          "name": "stdout"
        }
      ]
    },
    {
      "cell_type": "code",
      "metadata": {
        "id": "GPNtReCFGn-a"
      },
      "source": [
        "from tensorflow import keras\n",
        "from tensorflow.keras.models import Sequential\n",
        "import tensorflow as tf\n",
        "\n",
        "conv_base = ResNet50(weights='imagenet', \n",
        "                  include_top=True,\n",
        "                  input_shape=(224,224,3))\n",
        "model = models.Sequential()\n",
        "model.add(conv_base)\n",
        "\n",
        "# model.add(Conv2D(32, (1, 1),activation=\"relu\"))\n",
        "# model.add(Dropout(0.2))\n",
        "# model.add(Conv2D(64,(3, 3),activation=\"relu\"))\n",
        "# model.add(Dropout(0.2))\n",
        "# model.add(Flatten())\n",
        "# model.add(Dense(32))\n",
        "# model.add(Dense(64))\n",
        "# model.add(Dense(64))\n",
        "\n",
        "model.add(Dense(6,activation='softmax'))"
      ],
      "execution_count": null,
      "outputs": []
    },
    {
      "cell_type": "code",
      "metadata": {
        "colab": {
          "base_uri": "https://localhost:8080/"
        },
        "id": "EU2OEOFAG5_Z",
        "outputId": "79d5e3fe-e226-4ae4-a6ed-108442d5d0ca"
      },
      "source": [
        "model.compile(loss='categorical_crossentropy',\n",
        "              optimizer=optimizers.RMSprop(lr=0.01),\n",
        "              metrics=['acc'])\n",
        "\n"
      ],
      "execution_count": null,
      "outputs": [
        {
          "output_type": "stream",
          "text": [
            "/usr/local/lib/python3.7/dist-packages/tensorflow/python/keras/optimizer_v2/optimizer_v2.py:375: UserWarning: The `lr` argument is deprecated, use `learning_rate` instead.\n",
            "  \"The `lr` argument is deprecated, use `learning_rate` instead.\")\n"
          ],
          "name": "stderr"
        }
      ]
    },
    {
      "cell_type": "code",
      "metadata": {
        "id": "7WYBIHv6lXGE"
      },
      "source": [
        "# model.summary()"
      ],
      "execution_count": null,
      "outputs": []
    },
    {
      "cell_type": "code",
      "metadata": {
        "colab": {
          "base_uri": "https://localhost:8080/"
        },
        "id": "NalcbhKrGojF",
        "outputId": "2bc445d2-d65d-45f1-b830-8289cb5eb37a"
      },
      "source": [
        "history = model.fit_generator(\n",
        "      train_generator,\n",
        "      steps_per_epoch=50,\n",
        "      epochs=40,\n",
        "      validation_data=validation_generator,\n",
        "      validation_steps=10\n",
        ")"
      ],
      "execution_count": null,
      "outputs": [
        {
          "output_type": "stream",
          "text": [
            "/usr/local/lib/python3.7/dist-packages/keras/engine/training.py:1915: UserWarning: `Model.fit_generator` is deprecated and will be removed in a future version. Please use `Model.fit`, which supports generators.\n",
            "  warnings.warn('`Model.fit_generator` is deprecated and '\n"
          ],
          "name": "stderr"
        },
        {
          "output_type": "stream",
          "text": [
            "Epoch 1/40\n",
            "50/50 [==============================] - 58s 612ms/step - loss: 1.7728 - acc: 0.4500 - val_loss: 1.7883 - val_acc: 0.2906\n",
            "Epoch 2/40\n",
            "50/50 [==============================] - 28s 561ms/step - loss: 1.7357 - acc: 0.7050 - val_loss: 1.7938 - val_acc: 0.1281\n",
            "Epoch 3/40\n",
            "50/50 [==============================] - 30s 587ms/step - loss: 1.7265 - acc: 0.7369 - val_loss: 1.7859 - val_acc: 0.2469\n",
            "Epoch 4/40\n",
            "50/50 [==============================] - 28s 563ms/step - loss: 1.7193 - acc: 0.7994 - val_loss: 1.7797 - val_acc: 0.3500\n",
            "Epoch 5/40\n",
            "50/50 [==============================] - 29s 574ms/step - loss: 1.7163 - acc: 0.8111 - val_loss: 1.7882 - val_acc: 0.2688\n",
            "Epoch 6/40\n",
            "50/50 [==============================] - 29s 566ms/step - loss: 1.7093 - acc: 0.8541 - val_loss: 1.7909 - val_acc: 0.1562\n",
            "Epoch 7/40\n",
            "50/50 [==============================] - 29s 583ms/step - loss: 1.7066 - acc: 0.8785 - val_loss: 1.7896 - val_acc: 0.1688\n",
            "Epoch 8/40\n",
            "50/50 [==============================] - 28s 565ms/step - loss: 1.7038 - acc: 0.8982 - val_loss: 1.7882 - val_acc: 0.1562\n",
            "Epoch 9/40\n",
            "50/50 [==============================] - 29s 577ms/step - loss: 1.7006 - acc: 0.8984 - val_loss: 1.7876 - val_acc: 0.1469\n",
            "Epoch 10/40\n",
            "50/50 [==============================] - 29s 580ms/step - loss: 1.6986 - acc: 0.9013 - val_loss: 1.7871 - val_acc: 0.1594\n",
            "Epoch 11/40\n",
            "50/50 [==============================] - 29s 582ms/step - loss: 1.6974 - acc: 0.9127 - val_loss: 1.7957 - val_acc: 0.1531\n",
            "Epoch 12/40\n",
            "50/50 [==============================] - 28s 564ms/step - loss: 1.6931 - acc: 0.9221 - val_loss: 1.8085 - val_acc: 0.1437\n",
            "Epoch 13/40\n",
            "50/50 [==============================] - 29s 581ms/step - loss: 1.6893 - acc: 0.9405 - val_loss: 1.8030 - val_acc: 0.1625\n",
            "Epoch 14/40\n",
            "50/50 [==============================] - 29s 567ms/step - loss: 1.6885 - acc: 0.9287 - val_loss: 1.7968 - val_acc: 0.1875\n",
            "Epoch 15/40\n",
            "50/50 [==============================] - 29s 592ms/step - loss: 1.6885 - acc: 0.9226 - val_loss: 1.7898 - val_acc: 0.1875\n",
            "Epoch 16/40\n",
            "50/50 [==============================] - 29s 574ms/step - loss: 1.6857 - acc: 0.9298 - val_loss: 1.7814 - val_acc: 0.1781\n",
            "Epoch 17/40\n",
            "50/50 [==============================] - 29s 573ms/step - loss: 1.6839 - acc: 0.9313 - val_loss: 1.7727 - val_acc: 0.2531\n",
            "Epoch 18/40\n",
            "50/50 [==============================] - 29s 583ms/step - loss: 1.6807 - acc: 0.9330 - val_loss: 1.7680 - val_acc: 0.3219\n",
            "Epoch 19/40\n",
            "50/50 [==============================] - 29s 583ms/step - loss: 1.6785 - acc: 0.9385 - val_loss: 1.7635 - val_acc: 0.4469\n",
            "Epoch 20/40\n",
            "50/50 [==============================] - 29s 573ms/step - loss: 1.6779 - acc: 0.9312 - val_loss: 1.7655 - val_acc: 0.3656\n",
            "Epoch 21/40\n",
            "50/50 [==============================] - 29s 579ms/step - loss: 1.6755 - acc: 0.9432 - val_loss: 1.7608 - val_acc: 0.3812\n",
            "Epoch 22/40\n",
            "50/50 [==============================] - 29s 567ms/step - loss: 1.6732 - acc: 0.9350 - val_loss: 1.7383 - val_acc: 0.5906\n",
            "Epoch 23/40\n",
            "50/50 [==============================] - 29s 573ms/step - loss: 1.6705 - acc: 0.9452 - val_loss: 1.7037 - val_acc: 0.7937\n",
            "Epoch 24/40\n",
            "50/50 [==============================] - 29s 568ms/step - loss: 1.6681 - acc: 0.9534 - val_loss: 1.6853 - val_acc: 0.8562\n",
            "Epoch 25/40\n",
            "50/50 [==============================] - 29s 569ms/step - loss: 1.6689 - acc: 0.9381 - val_loss: 1.6923 - val_acc: 0.8250\n",
            "Epoch 26/40\n",
            "50/50 [==============================] - 30s 591ms/step - loss: 1.6668 - acc: 0.9392 - val_loss: 1.6789 - val_acc: 0.8813\n",
            "Epoch 27/40\n",
            "50/50 [==============================] - 29s 581ms/step - loss: 1.6613 - acc: 0.9548 - val_loss: 1.6754 - val_acc: 0.8750\n",
            "Epoch 28/40\n",
            "50/50 [==============================] - 28s 557ms/step - loss: 1.6607 - acc: 0.9534 - val_loss: 1.6858 - val_acc: 0.8000\n",
            "Epoch 29/40\n",
            "50/50 [==============================] - 29s 577ms/step - loss: 1.6592 - acc: 0.9508 - val_loss: 1.6794 - val_acc: 0.8375\n",
            "Epoch 30/40\n",
            "50/50 [==============================] - 28s 552ms/step - loss: 1.6583 - acc: 0.9458 - val_loss: 1.6908 - val_acc: 0.7656\n",
            "Epoch 31/40\n",
            "50/50 [==============================] - 29s 569ms/step - loss: 1.6561 - acc: 0.9498 - val_loss: 1.6883 - val_acc: 0.7531\n",
            "Epoch 32/40\n",
            "50/50 [==============================] - 28s 557ms/step - loss: 1.6534 - acc: 0.9526 - val_loss: 1.6591 - val_acc: 0.9031\n",
            "Epoch 33/40\n",
            "50/50 [==============================] - 29s 569ms/step - loss: 1.6523 - acc: 0.9465 - val_loss: 1.6755 - val_acc: 0.8313\n",
            "Epoch 34/40\n",
            "50/50 [==============================] - 29s 578ms/step - loss: 1.6531 - acc: 0.9404 - val_loss: 1.6581 - val_acc: 0.8969\n",
            "Epoch 35/40\n",
            "50/50 [==============================] - 29s 567ms/step - loss: 1.6479 - acc: 0.9558 - val_loss: 1.6752 - val_acc: 0.8188\n",
            "Epoch 36/40\n",
            "50/50 [==============================] - 29s 574ms/step - loss: 1.6471 - acc: 0.9524 - val_loss: 1.6462 - val_acc: 0.9469\n",
            "Epoch 37/40\n",
            "50/50 [==============================] - 29s 580ms/step - loss: 1.6473 - acc: 0.9383 - val_loss: 1.6445 - val_acc: 0.9406\n",
            "Epoch 38/40\n",
            "50/50 [==============================] - 28s 565ms/step - loss: 1.6458 - acc: 0.9351 - val_loss: 1.6436 - val_acc: 0.9281\n",
            "Epoch 39/40\n",
            "50/50 [==============================] - 29s 574ms/step - loss: 1.6418 - acc: 0.9513 - val_loss: 1.6423 - val_acc: 0.9375\n",
            "Epoch 40/40\n",
            "50/50 [==============================] - 29s 580ms/step - loss: 1.6386 - acc: 0.9553 - val_loss: 1.6407 - val_acc: 0.9375\n"
          ],
          "name": "stdout"
        }
      ]
    },
    {
      "cell_type": "code",
      "metadata": {
        "id": "nS9sfDRIOaa5",
        "colab": {
          "base_uri": "https://localhost:8080/"
        },
        "outputId": "4501683e-5d31-425d-9dea-50fbc72af7ea"
      },
      "source": [
        "test_generator = test_datagen.flow_from_directory(\n",
        "        test_path,\n",
        "        target_size=(224, 224),\n",
        "        classes=['0', '1', '2', '3', '4', '5'],\n",
        "        batch_size=32,\n",
        "        class_mode='categorical')"
      ],
      "execution_count": null,
      "outputs": [
        {
          "output_type": "stream",
          "text": [
            "Found 380 images belonging to 6 classes.\n"
          ],
          "name": "stdout"
        }
      ]
    },
    {
      "cell_type": "code",
      "metadata": {
        "id": "phKm-4L1OdW-",
        "colab": {
          "base_uri": "https://localhost:8080/"
        },
        "outputId": "cdfe4d7c-3f85-44d3-cfb8-80a73f49a179"
      },
      "source": [
        "test_loss, test_acc = model.evaluate_generator(\n",
        "\ttest_generator, \n",
        "\tsteps=test_generator.samples//test_generator.batch_size)"
      ],
      "execution_count": null,
      "outputs": [
        {
          "output_type": "stream",
          "text": [
            "/usr/local/lib/python3.7/dist-packages/keras/engine/training.py:1948: UserWarning: `Model.evaluate_generator` is deprecated and will be removed in a future version. Please use `Model.evaluate`, which supports generators.\n",
            "  warnings.warn('`Model.evaluate_generator` is deprecated and '\n"
          ],
          "name": "stderr"
        }
      ]
    },
    {
      "cell_type": "code",
      "metadata": {
        "id": "IJIIzOSEO0hr",
        "colab": {
          "base_uri": "https://localhost:8080/"
        },
        "outputId": "113f5b65-63e7-4608-fbc2-b469b6de24e4"
      },
      "source": [
        "print('test acc:', test_acc)\n"
      ],
      "execution_count": null,
      "outputs": [
        {
          "output_type": "stream",
          "text": [
            "test acc: 0.9545454382896423\n"
          ],
          "name": "stdout"
        }
      ]
    },
    {
      "cell_type": "code",
      "metadata": {
        "id": "93QKZJU6MSjT",
        "colab": {
          "base_uri": "https://localhost:8080/",
          "height": 312
        },
        "outputId": "2806021a-234d-4010-b98e-ca12f0270c28"
      },
      "source": [
        "# plot model loss & save\n",
        "plt.plot(history.history['loss'])\n",
        "plt.plot(history.history['val_loss'])\n",
        "plt.title('model loss')\n",
        "plt.ylabel('loss')\n",
        "plt.xlabel('epoch')\n",
        "plt.legend(['train', 'test'], loc='upper left')"
      ],
      "execution_count": null,
      "outputs": [
        {
          "output_type": "execute_result",
          "data": {
            "text/plain": [
              "<matplotlib.legend.Legend at 0x7f60081df550>"
            ]
          },
          "metadata": {
            "tags": []
          },
          "execution_count": 19
        },
        {
          "output_type": "display_data",
          "data": {
            "image/png": "[encoded data removed]",
            "text/plain": [
              "<Figure size 432x288 with 1 Axes>"
            ]
          },
          "metadata": {
            "tags": [],
            "needs_background": "light"
          }
        }
      ]
    },
    {
      "cell_type": "code",
      "metadata": {
        "id": "e2SVPMDtMpII",
        "colab": {
          "base_uri": "https://localhost:8080/",
          "height": 312
        },
        "outputId": "b2dbc118-906a-4ff8-9e12-69094bf4f790"
      },
      "source": [
        "# plot model accuracy & save\n",
        "plt.plot(history.history['acc'])\n",
        "plt.plot(history.history['val_acc'])\n",
        "plt.title('model accuracy')\n",
        "plt.ylabel('accuracy')\n",
        "plt.xlabel('epoch')\n",
        "plt.legend(['train', 'test'], loc='upper left')"
      ],
      "execution_count": null,
      "outputs": [
        {
          "output_type": "execute_result",
          "data": {
            "text/plain": [
              "<matplotlib.legend.Legend at 0x7f6008116fd0>"
            ]
          },
          "metadata": {
            "tags": []
          },
          "execution_count": 20
        },
        {
          "output_type": "display_data",
          "data": {
            "image/png": "[encoded data removed]",
            "text/plain": [
              "<Figure size 432x288 with 1 Axes>"
            ]
          },
          "metadata": {
            "tags": [],
            "needs_background": "light"
          }
        }
      ]
    },
    {
      "cell_type": "code",
      "metadata": {
        "id": "-pm4HL479EqD",
        "colab": {
          "base_uri": "https://localhost:8080/"
        },
        "outputId": "444f8aea-af0f-4392-83db-afea6dc84e03"
      },
      "source": [
        "test_loss, test_acc = model.evaluate_generator(\n",
        "\ttest_generator, \n",
        "\tsteps=test_generator.samples//test_generator.batch_size)"
      ],
      "execution_count": null,
      "outputs": [
        {
          "output_type": "stream",
          "text": [
            "/usr/local/lib/python3.7/dist-packages/keras/engine/training.py:1948: UserWarning: `Model.evaluate_generator` is deprecated and will be removed in a future version. Please use `Model.evaluate`, which supports generators.\n",
            "  warnings.warn('`Model.evaluate_generator` is deprecated and '\n"
          ],
          "name": "stderr"
        }
      ]
    },
    {
      "cell_type": "code",
      "metadata": {
        "id": "hN4_zA9G9EtL",
        "colab": {
          "base_uri": "https://localhost:8080/"
        },
        "outputId": "7180fcb9-c7d2-4978-a883-56099f8df37f"
      },
      "source": [
        "print('test acc:', test_acc)\n"
      ],
      "execution_count": null,
      "outputs": [
        {
          "output_type": "stream",
          "text": [
            "test acc: 0.9545454382896423\n"
          ],
          "name": "stdout"
        }
      ]
    },
    {
      "cell_type": "code",
      "metadata": {
        "id": "9Jbz58WjzBn7",
        "colab": {
          "base_uri": "https://localhost:8080/"
        },
        "outputId": "2141095a-9f96-4664-a6cf-e8610cf89102"
      },
      "source": [
        "! unzip /content/drive/MyDrive/aoi/test_images.zip > data_unzip.log"
      ],
      "execution_count": null,
      "outputs": [
        {
          "output_type": "stream",
          "text": [
            "replace test_images/test_00000.png? [y]es, [n]o, [A]ll, [N]one, [r]ename: "
          ],
          "name": "stdout"
        }
      ]
    },
    {
      "cell_type": "code",
      "metadata": {
        "id": "u26BoaAmzLc-"
      },
      "source": [
        "test_path2 = 'test_images/'\n"
      ],
      "execution_count": null,
      "outputs": []
    },
    {
      "cell_type": "code",
      "metadata": {
        "id": "kythm4MSJnmE"
      },
      "source": [
        "test_datagen = ImageDataGenerator(rescale=1./255)\n",
        "\n",
        "test_generator2 = test_datagen.flow_from_directory(\n",
        "        '.',\n",
        "        target_size=(224, 224),\n",
        "        class_mode='categorical',\n",
        "        classes=['test_images'],\n",
        "\t      batch_size=1,\n",
        "\t      shuffle=False)"
      ],
      "execution_count": null,
      "outputs": []
    },
    {
      "cell_type": "code",
      "metadata": {
        "id": "axj45xNLynoy"
      },
      "source": [
        "steps2=test_generator2.samples//test_generator2.batch_size\n",
        "print(steps2)"
      ],
      "execution_count": null,
      "outputs": []
    },
    {
      "cell_type": "code",
      "metadata": {
        "id": "rLaLq3f0NHr5"
      },
      "source": [
        "predict = model.predict_generator(\n",
        "    test_generator2,\n",
        "    steps=test_generator2.samples//test_generator2.batch_size)\n"
      ],
      "execution_count": null,
      "outputs": []
    },
    {
      "cell_type": "code",
      "metadata": {
        "id": "2R3mEKu4NMYB"
      },
      "source": [
        "import csv\n",
        "i =0 \n",
        "#f1 = open (\"inFile\",\"r\") # open input file for reading\n",
        "with open('output.csv', 'w') as csvfile:\n",
        "\twriter = csv.writer(csvfile)\n",
        "\twriter.writerow(['ID', 'Label'])\n",
        "\t#print(len(predict))\n",
        "\twhile i < len(predict):\n",
        "\t\t#image, label = test_generator2._get_batches_of_transformed_samples(np.array([i]))\n",
        "\t\timage_name = test_generator2.filenames[i]\n",
        "\t\tresult=np.where(predict[i] == np.amax(predict[i]))[0][0]\n",
        "\t\twriter.writerow([image_name, result])\n",
        "\t\ti=i+1\n",
        "\tprint(i)"
      ],
      "execution_count": null,
      "outputs": []
    },
    {
      "cell_type": "code",
      "metadata": {
        "id": "-o-vPvtONPYL"
      },
      "source": [
        "result = pd.read_csv('output.csv')\n",
        "result[\"ID\"] = result[\"ID\"].str.replace(\"test_images/t\",\"t\")\n"
      ],
      "execution_count": null,
      "outputs": []
    },
    {
      "cell_type": "code",
      "metadata": {
        "id": "MzSr-swgNSL3"
      },
      "source": [
        "import pandas as pd\n",
        "result.to_csv('Result_ResNet50.csv', index=False )"
      ],
      "execution_count": null,
      "outputs": []
    }
  ]
}